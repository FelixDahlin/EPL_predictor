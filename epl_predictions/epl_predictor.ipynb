{
 "cells": [
  {
   "cell_type": "code",
   "execution_count": 183,
   "metadata": {},
   "outputs": [],
   "source": [
    "# Import all packages\n",
    "import pandas as pd\n",
    "from sklearn.ensemble import RandomForestClassifier"
   ]
  },
  {
   "cell_type": "code",
   "execution_count": 184,
   "metadata": {},
   "outputs": [],
   "source": [
    "# Load match data\n",
    "epl_matches = pd.read_csv(\"epl_matches.csv\")"
   ]
  },
  {
   "cell_type": "code",
   "execution_count": 185,
   "metadata": {},
   "outputs": [],
   "source": [
    "# Set up initial predictors\n",
    "\n",
    "epl_matches[\"date\"] = pd.to_datetime(epl_matches[\"date\"])\n",
    "\n",
    "epl_matches[\"venue_code\"] = epl_matches[\"venue\"].astype(\"category\").cat.codes\n",
    "epl_matches[\"opp_code\"] = epl_matches[\"opponent\"].astype(\"category\").cat.codes\n",
    "epl_matches[\"target\"] = (epl_matches[\"result\"] == \"W\").astype(\"int\")"
   ]
  },
  {
   "cell_type": "code",
   "execution_count": 186,
   "metadata": {},
   "outputs": [],
   "source": [
    "# Set up the RandomForestClassifier\n",
    "\n",
    "rf = RandomForestClassifier(n_estimators=50, min_samples_split=10, random_state=1)\n",
    "train = epl_matches[epl_matches[\"date\"] < '2021-12-30']\n",
    "test = epl_matches[epl_matches[\"date\"] > '2022-01-01']\n",
    "\n",
    "predictors = [\"venue_code\", \"opp_code\", \"gf\", \"ga\", \"xg\", \"xga\"]\n",
    "\n",
    "rf.fit(train[predictors], train[\"target\"])\n",
    "\n",
    "predictions = rf.predict(test[predictors])"
   ]
  },
  {
   "cell_type": "code",
   "execution_count": 187,
   "metadata": {},
   "outputs": [
    {
     "name": "stdout",
     "output_type": "stream",
     "text": [
      "Matches predicted correctly: 220 of 276\n"
     ]
    }
   ],
   "source": [
    "# Show matches predicted correctly\n",
    "correct_predictions = test.copy()\n",
    "correct_predictions[\"predicted_result\"] = [\"W\" if pred == 1 else \"L\" for pred in predictions]\n",
    "correct_predictions = correct_predictions[correct_predictions[\"result\"] == correct_predictions[\"predicted_result\"]]\n",
    "correct_predictions = correct_predictions[[\"date\", \"team\", \"opponent\", \"predicted_result\"]]\n",
    "\n",
    "print(\"Matches predicted correctly:\", len(correct_predictions), \"of\", len(test))"
   ]
  }
 ],
 "metadata": {
  "kernelspec": {
   "display_name": "Python 3",
   "language": "python",
   "name": "python3"
  },
  "language_info": {
   "codemirror_mode": {
    "name": "ipython",
    "version": 3
   },
   "file_extension": ".py",
   "mimetype": "text/x-python",
   "name": "python",
   "nbconvert_exporter": "python",
   "pygments_lexer": "ipython3",
   "version": "3.10.11"
  },
  "orig_nbformat": 4
 },
 "nbformat": 4,
 "nbformat_minor": 2
}
